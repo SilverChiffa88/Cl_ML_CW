{
  "nbformat": 4,
  "nbformat_minor": 0,
  "metadata": {
    "colab": {
      "provenance": []
    },
    "kernelspec": {
      "name": "python3",
      "display_name": "Python 3"
    },
    "language_info": {
      "name": "python"
    }
  },
  "cells": [
    {
      "cell_type": "code",
      "execution_count": 1,
      "metadata": {
        "colab": {
          "base_uri": "https://localhost:8080/"
        },
        "id": "scAWSwLbHTAs",
        "outputId": "232fdff9-0159-4415-df0b-7c6cc333e5dc"
      },
      "outputs": [
        {
          "output_type": "stream",
          "name": "stdout",
          "text": [
            "\u001b[2K   \u001b[90m━━━━━━━━━━━━━━━━━━━━━━━━━━━━━━━━━━━━━━━━\u001b[0m \u001b[32m99.2/99.2 MB\u001b[0m \u001b[31m8.8 MB/s\u001b[0m eta \u001b[36m0:00:00\u001b[0m\n",
            "\u001b[?25h"
          ]
        }
      ],
      "source": [
        "!pip -q install catboost"
      ]
    },
    {
      "cell_type": "code",
      "source": [
        "import pandas as pd\n",
        "import numpy as np\n",
        "\n",
        "from sklearn.model_selection import train_test_split\n",
        "from sklearn.preprocessing import StandardScaler\n",
        "from sklearn.pipeline import make_pipeline\n",
        "from sklearn.linear_model import LinearRegression\n",
        "from sklearn.tree import DecisionTreeRegressor\n",
        "from sklearn.ensemble import RandomForestRegressor\n",
        "from sklearn.metrics import mean_absolute_error, mean_squared_error, r2_score\n",
        "from catboost import CatBoostRegressor\n",
        "from sklearn.model_selection import RandomizedSearchCV\n",
        "import matplotlib.pyplot as plt"
      ],
      "metadata": {
        "id": "l1SrRAJXHb2g"
      },
      "execution_count": 2,
      "outputs": []
    },
    {
      "cell_type": "markdown",
      "source": [
        "Датасет для SI"
      ],
      "metadata": {
        "id": "zryqvL1wHgug"
      }
    },
    {
      "cell_type": "code",
      "source": [
        "df = pd.read_csv('dataset_for_SI.csv')"
      ],
      "metadata": {
        "id": "JjF3JiFjHlDj"
      },
      "execution_count": 3,
      "outputs": []
    },
    {
      "cell_type": "markdown",
      "source": [
        "Подготовка данных и обучение"
      ],
      "metadata": {
        "id": "8qsvpFLGHq3V"
      }
    },
    {
      "cell_type": "code",
      "source": [
        "target_col = 'SI'\n",
        "X = df.drop(columns=[target_col]).select_dtypes(include=[np.number])\n",
        "y = df[target_col].values"
      ],
      "metadata": {
        "id": "aWs7ApaBHssK"
      },
      "execution_count": 4,
      "outputs": []
    },
    {
      "cell_type": "code",
      "source": [
        "X_train, X_test, y_train, y_test = train_test_split(\n",
        "    X, y, test_size=0.2, random_state=42\n",
        ")"
      ],
      "metadata": {
        "id": "yPvQeyQ3HwSq"
      },
      "execution_count": 5,
      "outputs": []
    },
    {
      "cell_type": "code",
      "source": [
        "models = {\n",
        "    'LinearRegression': LinearRegression(),\n",
        "    'DecisionTree': DecisionTreeRegressor(random_state=42),\n",
        "    'RandomForest': RandomForestRegressor(n_estimators=300, random_state=42, n_jobs=-1),\n",
        "    'CatBoost': CatBoostRegressor(random_state=42, verbose=False)\n",
        "}"
      ],
      "metadata": {
        "id": "l3AMiaqZHyqe"
      },
      "execution_count": 6,
      "outputs": []
    },
    {
      "cell_type": "code",
      "source": [
        "results = []\n",
        "for name, model in models.items():\n",
        "    model.fit(X_train, y_train)\n",
        "    y_pred = model.predict(X_test)\n",
        "\n",
        "    y_true = np.asarray(y_test).ravel()\n",
        "    y_pred = np.asarray(y_pred).ravel()\n",
        "\n",
        "    mae = mean_absolute_error(y_true, y_pred)\n",
        "    mse = mean_squared_error(y_true, y_pred)\n",
        "    rmse = np.sqrt(mse)\n",
        "    r2 = r2_score(y_true, y_pred)\n",
        "\n",
        "    results.append({'Model': name, 'MAE': mae, 'RMSE': rmse, 'R2': r2})"
      ],
      "metadata": {
        "id": "k4U8N3-WH3F2"
      },
      "execution_count": 7,
      "outputs": []
    },
    {
      "cell_type": "code",
      "source": [
        "results_df = pd.DataFrame(results).sort_values('R2', ascending=False).reset_index(drop=True)\n",
        "print(results_df.to_string(index=False))"
      ],
      "metadata": {
        "colab": {
          "base_uri": "https://localhost:8080/"
        },
        "id": "9V1tQ5sVH4-7",
        "outputId": "9ed7a99b-f654-4fe7-d212-803a11a0d44f"
      },
      "execution_count": 8,
      "outputs": [
        {
          "output_type": "stream",
          "name": "stdout",
          "text": [
            "           Model      MAE     RMSE        R2\n",
            "    RandomForest 0.997095 1.317677  0.088306\n",
            "        CatBoost 1.029692 1.397575 -0.025608\n",
            "LinearRegression 1.137782 1.471818 -0.137469\n",
            "    DecisionTree 1.398842 1.923856 -0.943463\n"
          ]
        }
      ]
    },
    {
      "cell_type": "markdown",
      "source": [
        "Гиперпараметры"
      ],
      "metadata": {
        "id": "nbgA8XP3H7d_"
      }
    },
    {
      "cell_type": "code",
      "source": [
        "models = {\n",
        "    'LinearRegression': LinearRegression(),\n",
        "    'DecisionTree': DecisionTreeRegressor(random_state=42),\n",
        "    'RandomForest': RandomForestRegressor(random_state=42, n_jobs=-1),\n",
        "    'CatBoost': CatBoostRegressor(random_state=42, verbose=False)\n",
        "}"
      ],
      "metadata": {
        "id": "nD-U9dSFH82w"
      },
      "execution_count": 9,
      "outputs": []
    },
    {
      "cell_type": "code",
      "source": [
        "param_grids = {\n",
        "    'DecisionTree': {\n",
        "        'max_depth': [None, 5, 10, 20],\n",
        "        'min_samples_split': [2, 5, 10],\n",
        "        'min_samples_leaf': [1, 2, 4]\n",
        "    },\n",
        "    'RandomForest': {\n",
        "        'n_estimators': [100, 300, 500],\n",
        "        'max_depth': [None, 10, 20],\n",
        "        'min_samples_split': [2, 5],\n",
        "        'min_samples_leaf': [1, 2],\n",
        "        'max_features': ['sqrt', 'log2']\n",
        "    },\n",
        "    'CatBoost': {\n",
        "        'depth': [4, 6, 10],\n",
        "        'learning_rate': [0.01, 0.1, 0.2],\n",
        "        'l2_leaf_reg': [1, 3, 5]\n",
        "    }\n",
        "}"
      ],
      "metadata": {
        "id": "OC-snNaLH-sa"
      },
      "execution_count": 10,
      "outputs": []
    },
    {
      "cell_type": "code",
      "source": [
        "tuned_models = {}\n",
        "\n",
        "for name, model in models.items():\n",
        "    print(f\"Тюнинг: {name}\")\n",
        "\n",
        "    if name == 'LinearRegression':\n",
        "        tuned_models[name] = model  # Без тюнинга\n",
        "        continue\n",
        "\n",
        "    param_grid = param_grids.get(name, {})\n",
        "\n",
        "    search = RandomizedSearchCV(\n",
        "        model,\n",
        "        param_distributions=param_grid,\n",
        "        n_iter=10,\n",
        "        cv=3,\n",
        "        scoring='r2',\n",
        "        n_jobs=-1,\n",
        "        random_state=42\n",
        "    )\n",
        "\n",
        "    search.fit(X_train, y_train)\n",
        "    tuned_models[name] = search.best_estimator_"
      ],
      "metadata": {
        "colab": {
          "base_uri": "https://localhost:8080/"
        },
        "id": "uqRAdEqDICYm",
        "outputId": "dfe1d927-68a4-451c-cb78-5ef6d8c14d01"
      },
      "execution_count": 11,
      "outputs": [
        {
          "output_type": "stream",
          "name": "stdout",
          "text": [
            "Тюнинг: LinearRegression\n",
            "Тюнинг: DecisionTree\n",
            "Тюнинг: RandomForest\n",
            "Тюнинг: CatBoost\n"
          ]
        }
      ]
    },
    {
      "cell_type": "code",
      "source": [
        "results = []\n",
        "for name, model in tuned_models.items():\n",
        "    model.fit(X_train, y_train)\n",
        "    y_pred = model.predict(X_test)\n",
        "\n",
        "    y_true = np.asarray(y_test).ravel()\n",
        "    y_pred = np.asarray(y_pred).ravel()\n",
        "\n",
        "    mae = mean_absolute_error(y_true, y_pred)\n",
        "    rmse = np.sqrt(mean_squared_error(y_true, y_pred))\n",
        "    r2 = r2_score(y_true, y_pred)\n",
        "\n",
        "    results.append({'Model': name, 'MAE': mae, 'RMSE': rmse, 'R2': r2})"
      ],
      "metadata": {
        "id": "Jj1osIenIEsf"
      },
      "execution_count": 12,
      "outputs": []
    },
    {
      "cell_type": "code",
      "source": [
        "results_df = pd.DataFrame(results).sort_values('R2', ascending=False).reset_index(drop=True)\n",
        "print(results_df.to_string(index=False))"
      ],
      "metadata": {
        "colab": {
          "base_uri": "https://localhost:8080/"
        },
        "id": "SG-mGxcwIGjf",
        "outputId": "49e33820-e92e-44a4-9a28-632516c09603"
      },
      "execution_count": 13,
      "outputs": [
        {
          "output_type": "stream",
          "name": "stdout",
          "text": [
            "           Model      MAE     RMSE        R2\n",
            "    RandomForest 0.993456 1.276383  0.144552\n",
            "        CatBoost 1.014578 1.295818  0.118304\n",
            "    DecisionTree 1.139369 1.408249 -0.041334\n",
            "LinearRegression 1.137782 1.471818 -0.137469\n"
          ]
        }
      ]
    },
    {
      "cell_type": "markdown",
      "source": [
        "Визуализация"
      ],
      "metadata": {
        "id": "Con9gGl3IJRF"
      }
    },
    {
      "cell_type": "code",
      "source": [
        "fig, axes = plt.subplots(1, 3, figsize=(18, 6))\n",
        "\n",
        "# Для MAE\n",
        "axes[0].bar(results_df['Model'], results_df['MAE'], color='skyblue')\n",
        "axes[0].set_title('MAE Comparison')\n",
        "axes[0].set_xlabel('Model')\n",
        "axes[0].set_ylabel('Mean Absolute Error')\n",
        "\n",
        "# Для для RMSE\n",
        "axes[1].bar(results_df['Model'], results_df['RMSE'], color='skyblue')\n",
        "axes[1].set_title('RMSE Comparison')\n",
        "axes[1].set_xlabel('Model')\n",
        "axes[1].set_ylabel('Root Mean Squared Error')\n",
        "\n",
        "# Для для R2\n",
        "axes[2].bar(results_df['Model'], results_df['R2'], color='skyblue')\n",
        "axes[2].set_title('R2 Comparison')\n",
        "axes[2].set_xlabel('Model')\n",
        "axes[2].set_ylabel('R2 Score')\n",
        "\n",
        "# Показать графики\n",
        "plt.tight_layout()\n",
        "plt.show()"
      ],
      "metadata": {
        "colab": {
          "base_uri": "https://localhost:8080/",
          "height": 384
        },
        "id": "0rVfyQSAIKQm",
        "outputId": "0bd187d6-9596-4b1f-dcc9-5b6b2c5d1c4c"
      },
      "execution_count": 14,
      "outputs": [
        {
          "output_type": "display_data",
          "data": {
            "text/plain": [
              "<Figure size 1800x600 with 3 Axes>"
            ],
            "image/png": "[encoded data removed]"
          },
          "metadata": {}
        }
      ]
    },
    {
      "cell_type": "markdown",
      "source": [
        "Лучший результат показывают Случайный Лес и Категориальный бустинг. Дерево Решений и Линейная Регрессия не справляются с задачей по датасету с переменной SI."
      ],
      "metadata": {
        "id": "TMPmoVGMLqyu"
      }
    },
    {
      "cell_type": "code",
      "source": [],
      "metadata": {
        "id": "fEW1MqF1L7eO"
      },
      "execution_count": null,
      "outputs": []
    }
  ]
}