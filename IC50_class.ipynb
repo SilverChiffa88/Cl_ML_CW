{
  "nbformat": 4,
  "nbformat_minor": 0,
  "metadata": {
    "colab": {
      "provenance": []
    },
    "kernelspec": {
      "name": "python3",
      "display_name": "Python 3"
    },
    "language_info": {
      "name": "python"
    }
  },
  "cells": [
    {
      "cell_type": "code",
      "source": [
        "!pip -q install catboost"
      ],
      "metadata": {
        "colab": {
          "base_uri": "https://localhost:8080/"
        },
        "id": "nGxErhfzNeed",
        "outputId": "fc8e01ff-e2ca-450d-f871-04e7f1f195f8"
      },
      "execution_count": 1,
      "outputs": [
        {
          "output_type": "stream",
          "name": "stdout",
          "text": [
            "\u001b[2K   \u001b[90m━━━━━━━━━━━━━━━━━━━━━━━━━━━━━━━━━━━━━━━━\u001b[0m \u001b[32m99.2/99.2 MB\u001b[0m \u001b[31m9.1 MB/s\u001b[0m eta \u001b[36m0:00:00\u001b[0m\n",
            "\u001b[?25h"
          ]
        }
      ]
    },
    {
      "cell_type": "code",
      "execution_count": 10,
      "metadata": {
        "id": "NnZ-yP_-NXM8"
      },
      "outputs": [],
      "source": [
        "import pandas as pd\n",
        "import numpy as np\n",
        "import matplotlib.pyplot as plt\n",
        "from sklearn.model_selection import train_test_split, RandomizedSearchCV\n",
        "from sklearn.preprocessing import StandardScaler\n",
        "from sklearn.decomposition import PCA\n",
        "from sklearn.metrics import accuracy_score, precision_score, recall_score, f1_score\n",
        "from sklearn.linear_model import LogisticRegression\n",
        "from sklearn.tree import DecisionTreeClassifier\n",
        "from sklearn.ensemble import RandomForestClassifier\n",
        "from catboost import CatBoostClassifier"
      ]
    },
    {
      "cell_type": "markdown",
      "source": [
        "Загружаем датасет"
      ],
      "metadata": {
        "id": "9U2OtYqGSRd_"
      }
    },
    {
      "cell_type": "code",
      "source": [
        "df = pd.read_csv('dataset_IC50_median.csv')\n"
      ],
      "metadata": {
        "id": "0U8uLtb2NgdL"
      },
      "execution_count": 11,
      "outputs": []
    },
    {
      "cell_type": "markdown",
      "source": [
        "Целевой столбец High_IC50"
      ],
      "metadata": {
        "id": "8MAtC0KNSVy0"
      }
    },
    {
      "cell_type": "code",
      "source": [
        "target_col = 'High_IC50'\n",
        "X = df.drop(columns=[target_col])\n",
        "y = df[target_col]"
      ],
      "metadata": {
        "id": "wtRZxzpHNpqq"
      },
      "execution_count": 12,
      "outputs": []
    },
    {
      "cell_type": "markdown",
      "source": [
        "Разделяем на обучающую и тестовую выборки"
      ],
      "metadata": {
        "id": "v6KAMKLrSbCu"
      }
    },
    {
      "cell_type": "code",
      "source": [
        "\n",
        "X_train, X_test, y_train, y_test = train_test_split(\n",
        "    X, y, test_size=0.2, random_state=42, stratify=y\n",
        ")"
      ],
      "metadata": {
        "id": "IjL5ZIbcNr_a"
      },
      "execution_count": 13,
      "outputs": []
    },
    {
      "cell_type": "markdown",
      "source": [
        "Масштабируем признаки"
      ],
      "metadata": {
        "id": "7c62AQEhSgKG"
      }
    },
    {
      "cell_type": "code",
      "source": [
        "scaler = StandardScaler()\n",
        "X_train_scaled = scaler.fit_transform(X_train)\n",
        "X_test_scaled = scaler.transform(X_test)"
      ],
      "metadata": {
        "id": "DzFieOtJNuL8"
      },
      "execution_count": 14,
      "outputs": []
    },
    {
      "cell_type": "markdown",
      "source": [
        "PCA"
      ],
      "metadata": {
        "id": "kOqOLAbsSntH"
      }
    },
    {
      "cell_type": "code",
      "source": [
        "pca = PCA(n_components=15, random_state=42)\n",
        "X_train_pca = pca.fit_transform(X_train_scaled)\n",
        "X_test_pca = pca.transform(X_test_scaled)"
      ],
      "metadata": {
        "id": "JOA6_p70Nwh8"
      },
      "execution_count": 15,
      "outputs": []
    },
    {
      "cell_type": "markdown",
      "source": [
        "Подбор гиперпараметров"
      ],
      "metadata": {
        "id": "W-YVcpnDSpVm"
      }
    },
    {
      "cell_type": "code",
      "source": [
        "models = {\n",
        "    'LogisticRegression': LogisticRegression(max_iter=1000, random_state=42),\n",
        "    'DecisionTree': DecisionTreeClassifier(random_state=42),\n",
        "    'RandomForest': RandomForestClassifier(random_state=42, n_jobs=-1),\n",
        "    'CatBoost': CatBoostClassifier(verbose=0, random_state=42)\n",
        "}\n",
        "\n",
        "param_grids = {\n",
        "    'LogisticRegression': {\n",
        "        'C': np.logspace(-3, 2, 6),\n",
        "        'penalty': ['l2']\n",
        "    },\n",
        "    'DecisionTree': {\n",
        "        'max_depth': [5, 10, 20, None],\n",
        "        'min_samples_split': [2, 5, 10]\n",
        "    },\n",
        "    'RandomForest': {\n",
        "        'n_estimators': [100, 300],\n",
        "        'max_depth': [10, 20, None],\n",
        "        'min_samples_leaf': [1, 2]\n",
        "    },\n",
        "    'CatBoost': {\n",
        "        'depth': [4, 6, 10],\n",
        "        'learning_rate': [0.01, 0.1, 0.2],\n",
        "        'l2_leaf_reg': [1, 3, 5]\n",
        "    }\n",
        "}"
      ],
      "metadata": {
        "id": "UJr3naKKN3dL"
      },
      "execution_count": 16,
      "outputs": []
    },
    {
      "cell_type": "markdown",
      "source": [
        " Обучение моделей с RandomizedSearchCV"
      ],
      "metadata": {
        "id": "0R72QAS5SwSX"
      }
    },
    {
      "cell_type": "code",
      "source": [
        "best_models = {}\n",
        "\n",
        "for name, model in models.items():\n",
        "    print(f\"Тюнинг: {name}\")\n",
        "    param_grid = param_grids[name]\n",
        "\n",
        "    search = RandomizedSearchCV(\n",
        "        model,\n",
        "        param_distributions=param_grid,\n",
        "        n_iter=10,\n",
        "        cv=3,\n",
        "        scoring='f1',\n",
        "        n_jobs=-1,\n",
        "        random_state=42\n",
        "    )\n",
        "\n",
        "    search.fit(X_train_pca, y_train)\n",
        "    best_models[name] = search.best_estimator_"
      ],
      "metadata": {
        "colab": {
          "base_uri": "https://localhost:8080/"
        },
        "id": "o2wCBUIhN6T7",
        "outputId": "4cdd1011-6b83-481d-dc53-de263a5b0805"
      },
      "execution_count": 17,
      "outputs": [
        {
          "output_type": "stream",
          "name": "stdout",
          "text": [
            "Тюнинг: LogisticRegression\n"
          ]
        },
        {
          "output_type": "stream",
          "name": "stderr",
          "text": [
            "/usr/local/lib/python3.11/dist-packages/sklearn/model_selection/_search.py:317: UserWarning: The total space of parameters 6 is smaller than n_iter=10. Running 6 iterations. For exhaustive searches, use GridSearchCV.\n",
            "  warnings.warn(\n"
          ]
        },
        {
          "output_type": "stream",
          "name": "stdout",
          "text": [
            "Тюнинг: DecisionTree\n",
            "Тюнинг: RandomForest\n",
            "Тюнинг: CatBoost\n"
          ]
        }
      ]
    },
    {
      "cell_type": "markdown",
      "source": [
        "Оцениваем метрики: Accuracy, Precision, Recall и F1-score"
      ],
      "metadata": {
        "id": "4lXLr5lCSzNX"
      }
    },
    {
      "cell_type": "code",
      "source": [
        "results = []\n",
        "\n",
        "for name, model in best_models.items():\n",
        "    y_pred = model.predict(X_test_pca)\n",
        "\n",
        "    acc = accuracy_score(y_test, y_pred)\n",
        "    prec = precision_score(y_test, y_pred)\n",
        "    rec = recall_score(y_test, y_pred)\n",
        "    f1 = f1_score(y_test, y_pred)\n",
        "\n",
        "    results.append({\n",
        "        'Model': name,\n",
        "        'Accuracy': acc,\n",
        "        'Precision': prec,\n",
        "        'Recall': rec,\n",
        "        'F1-score': f1\n",
        "    })\n"
      ],
      "metadata": {
        "id": "7FYr8bSpN-Jx"
      },
      "execution_count": 18,
      "outputs": []
    },
    {
      "cell_type": "markdown",
      "source": [
        "ВЫводим финальную таблицу"
      ],
      "metadata": {
        "id": "3ohIDC4ZTCgY"
      }
    },
    {
      "cell_type": "code",
      "source": [
        "results_df = pd.DataFrame(results).sort_values('F1-score', ascending=False).reset_index(drop=True)\n",
        "print(\"\\nИтоговая таблица результатов:\\n\")\n",
        "print(results_df.to_string(index=False))"
      ],
      "metadata": {
        "colab": {
          "base_uri": "https://localhost:8080/"
        },
        "id": "LcbekIb9OAUS",
        "outputId": "737d2da6-922a-4d1c-a8c1-ad58eb195a1e"
      },
      "execution_count": 21,
      "outputs": [
        {
          "output_type": "stream",
          "name": "stdout",
          "text": [
            "\n",
            "Итоговая таблица результатов:\n",
            "\n",
            "             Model  Accuracy  Precision  Recall  F1-score\n",
            "      RandomForest  0.706468   0.684685    0.76  0.720379\n",
            "          CatBoost  0.691542   0.679245    0.72  0.699029\n",
            "LogisticRegression  0.681592   0.660714    0.74  0.698113\n",
            "      DecisionTree  0.651741   0.647059    0.66  0.653465\n"
          ]
        }
      ]
    },
    {
      "cell_type": "markdown",
      "source": [
        "Визуализация результатов"
      ],
      "metadata": {
        "id": "UGKj8OfVTHw2"
      }
    },
    {
      "cell_type": "code",
      "source": [
        "fig, ax = plt.subplots(figsize=(10, 6))\n",
        "results_df.set_index('Model')[['Accuracy', 'Precision', 'Recall', 'F1-score']].plot(kind='bar', ax=ax)\n",
        "\n",
        "plt.title(\"Сравнение моделей по метрикам\")\n",
        "plt.ylabel(\"Значение\")\n",
        "plt.xticks(rotation=45)\n",
        "plt.grid(True)\n",
        "plt.tight_layout()\n",
        "plt.show()"
      ],
      "metadata": {
        "colab": {
          "base_uri": "https://localhost:8080/",
          "height": 607
        },
        "id": "TDw0VLOrOCmq",
        "outputId": "e28bfad0-8b7a-4c9a-e385-1b40199e019d"
      },
      "execution_count": 20,
      "outputs": [
        {
          "output_type": "display_data",
          "data": {
            "text/plain": [
              "<Figure size 1000x600 with 1 Axes>"
            ],
            "image/png": "[encoded data removed]"
          },
          "metadata": {}
        }
      ]
    },
    {
      "cell_type": "markdown",
      "source": [
        "В целом все модели показали неплохой результат, луше всех справилась модель Случайного Леса."
      ],
      "metadata": {
        "id": "5jnXn8pbRvP7"
      }
    }
  ]
}