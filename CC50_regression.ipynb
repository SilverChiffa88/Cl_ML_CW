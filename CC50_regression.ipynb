{
  "nbformat": 4,
  "nbformat_minor": 0,
  "metadata": {
    "colab": {
      "provenance": []
    },
    "kernelspec": {
      "name": "python3",
      "display_name": "Python 3"
    },
    "language_info": {
      "name": "python"
    }
  },
  "cells": [
    {
      "cell_type": "code",
      "source": [
        "!pip -q install catboost"
      ],
      "metadata": {
        "colab": {
          "base_uri": "https://localhost:8080/"
        },
        "id": "Lax7UcZz3h_e",
        "outputId": "f2cd52d0-9d86-4671-b5e5-9da7826d3eda"
      },
      "execution_count": 2,
      "outputs": [
        {
          "output_type": "stream",
          "name": "stdout",
          "text": [
            "\u001b[2K   \u001b[90m━━━━━━━━━━━━━━━━━━━━━━━━━━━━━━━━━━━━━━━━\u001b[0m \u001b[32m99.2/99.2 MB\u001b[0m \u001b[31m8.8 MB/s\u001b[0m eta \u001b[36m0:00:00\u001b[0m\n",
            "\u001b[?25h"
          ]
        }
      ]
    },
    {
      "cell_type": "code",
      "execution_count": 3,
      "metadata": {
        "id": "b09V90FA133m"
      },
      "outputs": [],
      "source": [
        "import pandas as pd\n",
        "import numpy as np\n",
        "\n",
        "from sklearn.model_selection import train_test_split\n",
        "from sklearn.preprocessing import StandardScaler\n",
        "from sklearn.pipeline import make_pipeline\n",
        "from sklearn.linear_model import LinearRegression\n",
        "from sklearn.tree import DecisionTreeRegressor\n",
        "from sklearn.ensemble import RandomForestRegressor\n",
        "from sklearn.metrics import mean_absolute_error, mean_squared_error, r2_score\n",
        "from catboost import CatBoostRegressor\n",
        "from sklearn.model_selection import RandomizedSearchCV\n",
        "import matplotlib.pyplot as plt"
      ]
    },
    {
      "cell_type": "markdown",
      "source": [
        "Загружаем датасет для переменной CC50"
      ],
      "metadata": {
        "id": "Bzsda34-2LH6"
      }
    },
    {
      "cell_type": "code",
      "source": [
        "df = pd.read_csv('dataset_for_CC50.csv')"
      ],
      "metadata": {
        "id": "uiJsdgkn2FTq"
      },
      "execution_count": 4,
      "outputs": []
    },
    {
      "cell_type": "markdown",
      "source": [
        "Подготовим данные для обучения моделей."
      ],
      "metadata": {
        "id": "k5ZQD5Iu2Ka8"
      }
    },
    {
      "cell_type": "code",
      "source": [
        "target_col = 'CC50, mM'\n",
        "X = df.drop(columns=[target_col]).select_dtypes(include=[np.number])\n",
        "y = df[target_col].values"
      ],
      "metadata": {
        "id": "TSnTiSTJ2V3V"
      },
      "execution_count": 5,
      "outputs": []
    },
    {
      "cell_type": "markdown",
      "source": [
        "Разделяем датасеты"
      ],
      "metadata": {
        "id": "sfTAF5KD2azY"
      }
    },
    {
      "cell_type": "code",
      "source": [
        "X_train, X_test, y_train, y_test = train_test_split(\n",
        "    X, y, test_size=0.2, random_state=42\n",
        ")"
      ],
      "metadata": {
        "id": "XShIwo9D2cAJ"
      },
      "execution_count": 6,
      "outputs": []
    },
    {
      "cell_type": "markdown",
      "source": [
        "Модели LinearRegression, DecisionTree, RandomForest и CatBoost."
      ],
      "metadata": {
        "id": "DtHROeXl2gjQ"
      }
    },
    {
      "cell_type": "code",
      "source": [
        "models = {\n",
        "    'LinearRegression': LinearRegression(),\n",
        "    'DecisionTree': DecisionTreeRegressor(random_state=42),\n",
        "    'RandomForest': RandomForestRegressor(n_estimators=300, random_state=42, n_jobs=-1),\n",
        "    'CatBoost': CatBoostRegressor(random_state=42, verbose=False)\n",
        "}"
      ],
      "metadata": {
        "id": "Q4dJVyqG2p00"
      },
      "execution_count": 7,
      "outputs": []
    },
    {
      "cell_type": "markdown",
      "source": [
        "Оценка по MAE, RMSE, R2"
      ],
      "metadata": {
        "id": "Yvu0E4452uzW"
      }
    },
    {
      "cell_type": "code",
      "source": [
        "results = []\n",
        "for name, model in models.items():\n",
        "    model.fit(X_train, y_train)\n",
        "    y_pred = model.predict(X_test)\n",
        "\n",
        "    y_true = np.asarray(y_test).ravel()\n",
        "    y_pred = np.asarray(y_pred).ravel()\n",
        "\n",
        "    mae = mean_absolute_error(y_true, y_pred)\n",
        "    mse = mean_squared_error(y_true, y_pred)\n",
        "    rmse = np.sqrt(mse)\n",
        "    r2 = r2_score(y_true, y_pred)\n",
        "\n",
        "    results.append({'Model': name, 'MAE': mae, 'RMSE': rmse, 'R2': r2})"
      ],
      "metadata": {
        "id": "GB9DcG_w2xJC"
      },
      "execution_count": 8,
      "outputs": []
    },
    {
      "cell_type": "code",
      "source": [
        "results_df = pd.DataFrame(results).sort_values('R2', ascending=False).reset_index(drop=True)\n",
        "print(results_df.to_string(index=False))"
      ],
      "metadata": {
        "colab": {
          "base_uri": "https://localhost:8080/"
        },
        "id": "9Usekc0c22OR",
        "outputId": "a73f1944-42da-48ea-b8db-7c5e684674d8"
      },
      "execution_count": 9,
      "outputs": [
        {
          "output_type": "stream",
          "name": "stdout",
          "text": [
            "           Model        MAE       RMSE       R2\n",
            "    RandomForest 248.032087 352.214096 0.403978\n",
            "        CatBoost 239.954705 360.022625 0.377258\n",
            "LinearRegression 289.329078 374.682557 0.325510\n",
            "    DecisionTree 270.462120 433.498342 0.097134\n"
          ]
        }
      ]
    },
    {
      "cell_type": "markdown",
      "source": [
        "Подбор гиперпараметров и сохранение лучших моделей"
      ],
      "metadata": {
        "id": "g_WSTR3X25pw"
      }
    },
    {
      "cell_type": "code",
      "source": [
        "models = {\n",
        "    'LinearRegression': LinearRegression(),\n",
        "    'DecisionTree': DecisionTreeRegressor(random_state=42),\n",
        "    'RandomForest': RandomForestRegressor(random_state=42, n_jobs=-1),\n",
        "    'CatBoost': CatBoostRegressor(random_state=42, verbose=False)\n",
        "}"
      ],
      "metadata": {
        "id": "uUrOtZWk26Ta"
      },
      "execution_count": 10,
      "outputs": []
    },
    {
      "cell_type": "code",
      "source": [
        "param_grids = {\n",
        "    'DecisionTree': {\n",
        "        'max_depth': [None, 5, 10, 20],\n",
        "        'min_samples_split': [2, 5, 10],\n",
        "        'min_samples_leaf': [1, 2, 4]\n",
        "    },\n",
        "    'RandomForest': {\n",
        "        'n_estimators': [100, 300, 500],\n",
        "        'max_depth': [None, 10, 20],\n",
        "        'min_samples_split': [2, 5],\n",
        "        'min_samples_leaf': [1, 2],\n",
        "        'max_features': ['sqrt', 'log2']\n",
        "    },\n",
        "    'CatBoost': {\n",
        "        'depth': [4, 6, 10],\n",
        "        'learning_rate': [0.01, 0.1, 0.2],\n",
        "        'l2_leaf_reg': [1, 3, 5]\n",
        "    }\n",
        "}"
      ],
      "metadata": {
        "id": "yD-Xhfh429ga"
      },
      "execution_count": 11,
      "outputs": []
    },
    {
      "cell_type": "code",
      "source": [
        "tuned_models = {}\n",
        "\n",
        "for name, model in models.items():\n",
        "    print(f\"Тюнинг: {name}\")\n",
        "\n",
        "    if name == 'LinearRegression':\n",
        "        tuned_models[name] = model  # Без тюнинга\n",
        "        continue\n",
        "\n",
        "    param_grid = param_grids.get(name, {})\n",
        "\n",
        "    search = RandomizedSearchCV(\n",
        "        model,\n",
        "        param_distributions=param_grid,\n",
        "        n_iter=10,\n",
        "        cv=3,\n",
        "        scoring='r2',\n",
        "        n_jobs=-1,\n",
        "        random_state=42\n",
        "    )\n",
        "\n",
        "    search.fit(X_train, y_train)\n",
        "    tuned_models[name] = search.best_estimator_"
      ],
      "metadata": {
        "colab": {
          "base_uri": "https://localhost:8080/"
        },
        "id": "-p1aVR4O3CVe",
        "outputId": "4bd80c6c-b5c1-45c0-f3a7-60235bd15412"
      },
      "execution_count": 12,
      "outputs": [
        {
          "output_type": "stream",
          "name": "stdout",
          "text": [
            "Тюнинг: LinearRegression\n",
            "Тюнинг: DecisionTree\n",
            "Тюнинг: RandomForest\n",
            "Тюнинг: CatBoost\n"
          ]
        }
      ]
    },
    {
      "cell_type": "markdown",
      "source": [
        "Сравним"
      ],
      "metadata": {
        "id": "ORPlsZp73I_p"
      }
    },
    {
      "cell_type": "code",
      "source": [
        "results = []\n",
        "for name, model in tuned_models.items():\n",
        "    model.fit(X_train, y_train)\n",
        "    y_pred = model.predict(X_test)\n",
        "\n",
        "    y_true = np.asarray(y_test).ravel()\n",
        "    y_pred = np.asarray(y_pred).ravel()\n",
        "\n",
        "    mae = mean_absolute_error(y_true, y_pred)\n",
        "    rmse = np.sqrt(mean_squared_error(y_true, y_pred))\n",
        "    r2 = r2_score(y_true, y_pred)\n",
        "\n",
        "    results.append({'Model': name, 'MAE': mae, 'RMSE': rmse, 'R2': r2})"
      ],
      "metadata": {
        "id": "L5VXB8Ca3J13"
      },
      "execution_count": 13,
      "outputs": []
    },
    {
      "cell_type": "code",
      "source": [
        "results_df = pd.DataFrame(results).sort_values('R2', ascending=False).reset_index(drop=True)\n",
        "print(results_df.to_string(index=False))"
      ],
      "metadata": {
        "colab": {
          "base_uri": "https://localhost:8080/"
        },
        "id": "nCfofObq3MfG",
        "outputId": "57fa4c2c-fc03-4d5e-9d5a-72750ea62c11"
      },
      "execution_count": 14,
      "outputs": [
        {
          "output_type": "stream",
          "name": "stdout",
          "text": [
            "           Model        MAE       RMSE       R2\n",
            "        CatBoost 246.875966 336.660701 0.455456\n",
            "    RandomForest 252.248304 345.231117 0.427378\n",
            "LinearRegression 289.329078 374.682557 0.325510\n",
            "    DecisionTree 301.994813 403.166131 0.219062\n"
          ]
        }
      ]
    },
    {
      "cell_type": "code",
      "source": [
        "fig, axes = plt.subplots(1, 3, figsize=(18, 6))\n",
        "\n",
        "# Для MAE\n",
        "axes[0].bar(results_df['Model'], results_df['MAE'], color='skyblue')\n",
        "axes[0].set_title('MAE Comparison')\n",
        "axes[0].set_xlabel('Model')\n",
        "axes[0].set_ylabel('Mean Absolute Error')\n",
        "\n",
        "# Для для RMSE\n",
        "axes[1].bar(results_df['Model'], results_df['RMSE'], color='skyblue')\n",
        "axes[1].set_title('RMSE Comparison')\n",
        "axes[1].set_xlabel('Model')\n",
        "axes[1].set_ylabel('Root Mean Squared Error')\n",
        "\n",
        "# Для для R2\n",
        "axes[2].bar(results_df['Model'], results_df['R2'], color='skyblue')\n",
        "axes[2].set_title('R2 Comparison')\n",
        "axes[2].set_xlabel('Model')\n",
        "axes[2].set_ylabel('R2 Score')\n",
        "\n",
        "# Показать графики\n",
        "plt.tight_layout()\n",
        "plt.show()"
      ],
      "metadata": {
        "colab": {
          "base_uri": "https://localhost:8080/",
          "height": 384
        },
        "id": "YUYTK2U73Prn",
        "outputId": "4072f8f6-9a5b-4e01-fda6-8fa587579c64"
      },
      "execution_count": 15,
      "outputs": [
        {
          "output_type": "display_data",
          "data": {
            "text/plain": [
              "<Figure size 1800x600 with 3 Axes>"
            ],
            "image/png": "[encoded data removed]"
          },
          "metadata": {}
        }
      ]
    },
    {
      "cell_type": "markdown",
      "source": [
        "Касаемо переменной CC50  различия между разными моделями не столько драматичны, но видно, что лучше всего себя показали модель категориального бустинга и Случайного Леса."
      ],
      "metadata": {
        "id": "i03flZfGK65e"
      }
    }
  ]
}