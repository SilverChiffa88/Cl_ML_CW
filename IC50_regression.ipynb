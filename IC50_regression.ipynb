{
  "nbformat": 4,
  "nbformat_minor": 0,
  "metadata": {
    "colab": {
      "provenance": []
    },
    "kernelspec": {
      "name": "python3",
      "display_name": "Python 3"
    },
    "language_info": {
      "name": "python"
    }
  },
  "cells": [
    {
      "cell_type": "code",
      "source": [
        "!pip -q install catboost"
      ],
      "metadata": {
        "id": "XIeU0ST0UwDt"
      },
      "execution_count": 82,
      "outputs": []
    },
    {
      "cell_type": "code",
      "execution_count": 83,
      "metadata": {
        "id": "5XjmttGcUjT0"
      },
      "outputs": [],
      "source": [
        "import pandas as pd\n",
        "import numpy as np\n",
        "\n",
        "from sklearn.model_selection import train_test_split\n",
        "from sklearn.preprocessing import StandardScaler\n",
        "from sklearn.pipeline import make_pipeline\n",
        "from sklearn.linear_model import LinearRegression\n",
        "from sklearn.tree import DecisionTreeRegressor\n",
        "from sklearn.ensemble import RandomForestRegressor\n",
        "from sklearn.metrics import mean_absolute_error, mean_squared_error, r2_score\n",
        "from catboost import CatBoostRegressor\n",
        "from sklearn.model_selection import RandomizedSearchCV\n",
        "import matplotlib.pyplot as plt"
      ]
    },
    {
      "cell_type": "markdown",
      "source": [
        "Загружаем датасет"
      ],
      "metadata": {
        "id": "LTb71oGNU14C"
      }
    },
    {
      "cell_type": "code",
      "source": [
        "df = pd.read_csv('dataset_for_IC50.csv')"
      ],
      "metadata": {
        "id": "bMWBWOXlU2O3"
      },
      "execution_count": 84,
      "outputs": []
    },
    {
      "cell_type": "markdown",
      "source": [
        "Подготовим данные для обучения моделей.\n",
        "\n",
        "Разделяем на признаки и целевую переменную.\n",
        "\n"
      ],
      "metadata": {
        "id": "xil5ZoQ_gEQZ"
      }
    },
    {
      "cell_type": "code",
      "source": [
        "target_col = 'IC50, mM'\n",
        "X = df.drop(columns=[target_col]).select_dtypes(include=[np.number])\n",
        "y = df[target_col].values"
      ],
      "metadata": {
        "id": "_ni2XF57U-Zh"
      },
      "execution_count": 85,
      "outputs": []
    },
    {
      "cell_type": "markdown",
      "source": [
        "Разделяем данные на тестовый и обучающий датасеты"
      ],
      "metadata": {
        "id": "LN3lnD2CgyEd"
      }
    },
    {
      "cell_type": "code",
      "source": [
        "X_train, X_test, y_train, y_test = train_test_split(\n",
        "    X, y, test_size=0.2, random_state=42\n",
        ")"
      ],
      "metadata": {
        "id": "KgApQ80VVFBy"
      },
      "execution_count": 86,
      "outputs": []
    },
    {
      "cell_type": "markdown",
      "source": [
        "Модели"
      ],
      "metadata": {
        "id": "qnJ0DXQ2VGxD"
      }
    },
    {
      "cell_type": "code",
      "source": [
        "models = {\n",
        "    'LinearRegression': LinearRegression(),\n",
        "    'DecisionTree': DecisionTreeRegressor(random_state=42),\n",
        "    'RandomForest': RandomForestRegressor(n_estimators=300, random_state=42, n_jobs=-1),\n",
        "    'CatBoost': CatBoostRegressor(random_state=42, verbose=False)\n",
        "}"
      ],
      "metadata": {
        "id": "-Ii4RqFmVHJQ"
      },
      "execution_count": 87,
      "outputs": []
    },
    {
      "cell_type": "markdown",
      "source": [
        "Оценка по MAE, RMSE, R2"
      ],
      "metadata": {
        "id": "4K0RBXUFVLzq"
      }
    },
    {
      "cell_type": "code",
      "source": [
        "results = []\n",
        "for name, model in models.items():\n",
        "    model.fit(X_train, y_train)\n",
        "    y_pred = model.predict(X_test)\n",
        "\n",
        "    y_true = np.asarray(y_test).ravel()\n",
        "    y_pred = np.asarray(y_pred).ravel()\n",
        "\n",
        "    mae = mean_absolute_error(y_true, y_pred)\n",
        "    mse = mean_squared_error(y_true, y_pred)\n",
        "    rmse = np.sqrt(mse)\n",
        "    r2 = r2_score(y_true, y_pred)\n",
        "\n",
        "    results.append({'Model': name, 'MAE': mae, 'RMSE': rmse, 'R2': r2})"
      ],
      "metadata": {
        "id": "Clqd9uYRVMJs"
      },
      "execution_count": 88,
      "outputs": []
    },
    {
      "cell_type": "markdown",
      "source": [
        "Сводим итоговую таблицу"
      ],
      "metadata": {
        "id": "QzRDesdfVgoy"
      }
    },
    {
      "cell_type": "code",
      "source": [
        "results_df = pd.DataFrame(results).sort_values('R2', ascending=False).reset_index(drop=True)\n",
        "print(results_df.to_string(index=False))"
      ],
      "metadata": {
        "id": "gmDbRAS7VhMx",
        "colab": {
          "base_uri": "https://localhost:8080/"
        },
        "outputId": "eb918ac0-63db-41e9-b490-cf0750d64b68"
      },
      "execution_count": 89,
      "outputs": [
        {
          "output_type": "stream",
          "name": "stdout",
          "text": [
            "           Model       MAE      RMSE        R2\n",
            "    RandomForest 12.297757 16.008107  0.278418\n",
            "        CatBoost 12.006827 16.301937  0.251685\n",
            "    DecisionTree 15.725566 21.763021 -0.333658\n",
            "LinearRegression 16.405002 22.448416 -0.418983\n"
          ]
        }
      ]
    },
    {
      "cell_type": "markdown",
      "source": [
        "Подбор гиперпараметров"
      ],
      "metadata": {
        "id": "lscOU0nzQJJS"
      }
    },
    {
      "cell_type": "code",
      "source": [
        "models = {\n",
        "    'LinearRegression': LinearRegression(),\n",
        "    'DecisionTree': DecisionTreeRegressor(random_state=42),\n",
        "    'RandomForest': RandomForestRegressor(random_state=42, n_jobs=-1),\n",
        "    'CatBoost': CatBoostRegressor(random_state=42, verbose=False)\n",
        "}"
      ],
      "metadata": {
        "id": "l79qV8DsZGtN"
      },
      "execution_count": 90,
      "outputs": []
    },
    {
      "cell_type": "code",
      "source": [
        "param_grids = {\n",
        "    'DecisionTree': {\n",
        "        'max_depth': [None, 5, 10, 20],\n",
        "        'min_samples_split': [2, 5, 10],\n",
        "        'min_samples_leaf': [1, 2, 4]\n",
        "    },\n",
        "    'RandomForest': {\n",
        "        'n_estimators': [100, 300, 500],\n",
        "        'max_depth': [None, 10, 20],\n",
        "        'min_samples_split': [2, 5],\n",
        "        'min_samples_leaf': [1, 2],\n",
        "        'max_features': ['sqrt', 'log2']\n",
        "    },\n",
        "    'CatBoost': {\n",
        "        'depth': [4, 6, 10],\n",
        "        'learning_rate': [0.01, 0.1, 0.2],\n",
        "        'l2_leaf_reg': [1, 3, 5]\n",
        "    }\n",
        "}"
      ],
      "metadata": {
        "id": "PdTyWXDwQK8h"
      },
      "execution_count": 91,
      "outputs": []
    },
    {
      "cell_type": "markdown",
      "source": [
        "Подбор и сохранение лучших моделей"
      ],
      "metadata": {
        "id": "t3AqUE-ghAfc"
      }
    },
    {
      "cell_type": "code",
      "source": [
        "tuned_models = {}\n",
        "\n",
        "for name, model in models.items():\n",
        "    print(f\"Тюнинг: {name}\")\n",
        "\n",
        "    if name == 'LinearRegression':\n",
        "        tuned_models[name] = model  # Без тюнинга\n",
        "        continue\n",
        "\n",
        "    param_grid = param_grids.get(name, {})\n",
        "\n",
        "    search = RandomizedSearchCV(\n",
        "        model,\n",
        "        param_distributions=param_grid,\n",
        "        n_iter=10,\n",
        "        cv=3,\n",
        "        scoring='r2',\n",
        "        n_jobs=-1,\n",
        "        random_state=42\n",
        "    )\n",
        "\n",
        "    search.fit(X_train, y_train)\n",
        "    tuned_models[name] = search.best_estimator_\n"
      ],
      "metadata": {
        "colab": {
          "base_uri": "https://localhost:8080/"
        },
        "id": "vPhiwQSVQOsn",
        "outputId": "20c52531-7e55-4a2c-d5c4-b7d9178c4de8"
      },
      "execution_count": 92,
      "outputs": [
        {
          "output_type": "stream",
          "name": "stdout",
          "text": [
            "Тюнинг: LinearRegression\n",
            "Тюнинг: DecisionTree\n",
            "Тюнинг: RandomForest\n",
            "Тюнинг: CatBoost\n"
          ]
        }
      ]
    },
    {
      "cell_type": "markdown",
      "source": [
        "Сравнение результатов"
      ],
      "metadata": {
        "id": "JZzJDIZHhE72"
      }
    },
    {
      "cell_type": "code",
      "source": [
        "results = []\n",
        "for name, model in tuned_models.items():\n",
        "    model.fit(X_train, y_train)\n",
        "    y_pred = model.predict(X_test)\n",
        "\n",
        "    y_true = np.asarray(y_test).ravel()\n",
        "    y_pred = np.asarray(y_pred).ravel()\n",
        "\n",
        "    mae = mean_absolute_error(y_true, y_pred)\n",
        "    rmse = np.sqrt(mean_squared_error(y_true, y_pred))\n",
        "    r2 = r2_score(y_true, y_pred)\n",
        "\n",
        "    results.append({'Model': name, 'MAE': mae, 'RMSE': rmse, 'R2': r2})"
      ],
      "metadata": {
        "id": "DkLzIVk7QZgL"
      },
      "execution_count": 93,
      "outputs": []
    },
    {
      "cell_type": "markdown",
      "source": [
        "Итоговая таблица"
      ],
      "metadata": {
        "id": "aPKAVLe4hHh0"
      }
    },
    {
      "cell_type": "code",
      "source": [
        "results_df = pd.DataFrame(results).sort_values('R2', ascending=False).reset_index(drop=True)\n",
        "print(results_df.to_string(index=False))"
      ],
      "metadata": {
        "colab": {
          "base_uri": "https://localhost:8080/"
        },
        "id": "-UPlMnE8SMCB",
        "outputId": "1d812cc3-72bc-4f02-aec1-d297e889d3fa"
      },
      "execution_count": 94,
      "outputs": [
        {
          "output_type": "stream",
          "name": "stdout",
          "text": [
            "           Model       MAE      RMSE        R2\n",
            "    RandomForest 12.507344 16.026077  0.276797\n",
            "        CatBoost 12.307459 16.161446  0.264528\n",
            "    DecisionTree 14.581847 18.857487 -0.001322\n",
            "LinearRegression 16.405002 22.448416 -0.418983\n"
          ]
        }
      ]
    },
    {
      "cell_type": "markdown",
      "source": [
        "Для лучшего восприятия посмтроим гистограммы"
      ],
      "metadata": {
        "id": "LmPQgLALhKaL"
      }
    },
    {
      "cell_type": "code",
      "source": [
        "fig, axes = plt.subplots(1, 3, figsize=(18, 6))\n",
        "\n",
        "# Для MAE\n",
        "axes[0].bar(results_df['Model'], results_df['MAE'], color='skyblue')\n",
        "axes[0].set_title('MAE Comparison')\n",
        "axes[0].set_xlabel('Model')\n",
        "axes[0].set_ylabel('Mean Absolute Error')\n",
        "\n",
        "# Для для RMSE\n",
        "axes[1].bar(results_df['Model'], results_df['RMSE'], color='skyblue')\n",
        "axes[1].set_title('RMSE Comparison')\n",
        "axes[1].set_xlabel('Model')\n",
        "axes[1].set_ylabel('Root Mean Squared Error')\n",
        "\n",
        "# Для для R2\n",
        "axes[2].bar(results_df['Model'], results_df['R2'], color='skyblue')\n",
        "axes[2].set_title('R2 Comparison')\n",
        "axes[2].set_xlabel('Model')\n",
        "axes[2].set_ylabel('R2 Score')\n",
        "\n",
        "# Показать графики\n",
        "plt.tight_layout()\n",
        "plt.show()"
      ],
      "metadata": {
        "colab": {
          "base_uri": "https://localhost:8080/",
          "height": 384
        },
        "id": "eDtP1Ek_ZfYr",
        "outputId": "a946a8c4-7927-45af-cb81-c6c5a9203085"
      },
      "execution_count": 95,
      "outputs": [
        {
          "output_type": "display_data",
          "data": {
            "text/plain": [
              "<Figure size 1800x600 with 3 Axes>"
            ],
            "image/png": "[encoded data removed]"
          },
          "metadata": {}
        }
      ]
    },
    {
      "cell_type": "markdown",
      "source": [
        "КАк видим, лучше метрики у моделей RandomForrest и CatBoost. DecisionTree и LinealRegression явно не тсправляются с задачей."
      ],
      "metadata": {
        "id": "nnBZA-191ULm"
      }
    },
    {
      "cell_type": "code",
      "source": [],
      "metadata": {
        "id": "ndE4SAUJ1wbs"
      },
      "execution_count": null,
      "outputs": []
    }
  ]
}