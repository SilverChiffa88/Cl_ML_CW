{
  "nbformat": 4,
  "nbformat_minor": 0,
  "metadata": {
    "colab": {
      "provenance": []
    },
    "kernelspec": {
      "name": "python3",
      "display_name": "Python 3"
    },
    "language_info": {
      "name": "python"
    }
  },
  "cells": [
    {
      "cell_type": "code",
      "execution_count": 1,
      "metadata": {
        "colab": {
          "base_uri": "https://localhost:8080/"
        },
        "id": "Fx1m6-ESUrij",
        "outputId": "94df8d33-8849-4d87-fc4c-7057f689a290"
      },
      "outputs": [
        {
          "output_type": "stream",
          "name": "stdout",
          "text": [
            "\u001b[2K   \u001b[90m━━━━━━━━━━━━━━━━━━━━━━━━━━━━━━━━━━━━━━━━\u001b[0m \u001b[32m99.2/99.2 MB\u001b[0m \u001b[31m9.1 MB/s\u001b[0m eta \u001b[36m0:00:00\u001b[0m\n",
            "\u001b[?25h"
          ]
        }
      ],
      "source": [
        "!pip -q install catboost"
      ]
    },
    {
      "cell_type": "code",
      "source": [
        "import pandas as pd\n",
        "import numpy as np\n",
        "import matplotlib.pyplot as plt\n",
        "from sklearn.model_selection import train_test_split, RandomizedSearchCV\n",
        "from sklearn.preprocessing import StandardScaler\n",
        "from sklearn.decomposition import PCA\n",
        "from sklearn.metrics import accuracy_score, precision_score, recall_score, f1_score\n",
        "from sklearn.linear_model import LogisticRegression\n",
        "from sklearn.tree import DecisionTreeClassifier\n",
        "from sklearn.ensemble import RandomForestClassifier\n",
        "from catboost import CatBoostClassifier"
      ],
      "metadata": {
        "id": "qnz2HvMUUx9_"
      },
      "execution_count": 2,
      "outputs": []
    },
    {
      "cell_type": "markdown",
      "source": [
        "Датасет"
      ],
      "metadata": {
        "id": "9Ju38NOtUz_z"
      }
    },
    {
      "cell_type": "code",
      "source": [
        "df = pd.read_csv('dataset_CC50_median.csv')"
      ],
      "metadata": {
        "id": "SgUzXb1SU2Yk"
      },
      "execution_count": 3,
      "outputs": []
    },
    {
      "cell_type": "markdown",
      "source": [
        "Целевой столбец High_CC50"
      ],
      "metadata": {
        "id": "lKGoIM9tVAqD"
      }
    },
    {
      "cell_type": "code",
      "source": [
        "target_col = 'High_CC50'\n",
        "X = df.drop(columns=[target_col])\n",
        "y = df[target_col]"
      ],
      "metadata": {
        "id": "P55o28AVVCxK"
      },
      "execution_count": 5,
      "outputs": []
    },
    {
      "cell_type": "markdown",
      "source": [
        "Разделяем выборки"
      ],
      "metadata": {
        "id": "UELeFIfiVGpg"
      }
    },
    {
      "cell_type": "code",
      "source": [
        "X_train, X_test, y_train, y_test = train_test_split(\n",
        "    X, y, test_size=0.2, random_state=42, stratify=y\n",
        ")"
      ],
      "metadata": {
        "id": "yHSIE6hjVIGc"
      },
      "execution_count": 6,
      "outputs": []
    },
    {
      "cell_type": "markdown",
      "source": [
        "Масштабируем признаки"
      ],
      "metadata": {
        "id": "ZlPpVbNCVOSE"
      }
    },
    {
      "cell_type": "code",
      "source": [
        "scaler = StandardScaler()\n",
        "X_train_scaled = scaler.fit_transform(X_train)\n",
        "X_test_scaled = scaler.transform(X_test)"
      ],
      "metadata": {
        "id": "E0lpGBS8VN4E"
      },
      "execution_count": 7,
      "outputs": []
    },
    {
      "cell_type": "markdown",
      "source": [
        "PCA"
      ],
      "metadata": {
        "id": "jSGfJmRTVR2c"
      }
    },
    {
      "cell_type": "code",
      "source": [
        "pca = PCA(n_components=15, random_state=42)\n",
        "X_train_pca = pca.fit_transform(X_train_scaled)\n",
        "X_test_pca = pca.transform(X_test_scaled)"
      ],
      "metadata": {
        "id": "JQIlC46NVToZ"
      },
      "execution_count": 8,
      "outputs": []
    },
    {
      "cell_type": "markdown",
      "source": [
        "Подбор гиперпараметров"
      ],
      "metadata": {
        "id": "JYJ_OS0yVVQQ"
      }
    },
    {
      "cell_type": "code",
      "source": [
        "models = {\n",
        "    'LogisticRegression': LogisticRegression(max_iter=1000, random_state=42),\n",
        "    'DecisionTree': DecisionTreeClassifier(random_state=42),\n",
        "    'RandomForest': RandomForestClassifier(random_state=42, n_jobs=-1),\n",
        "    'CatBoost': CatBoostClassifier(verbose=0, random_state=42)\n",
        "}\n",
        "\n",
        "param_grids = {\n",
        "    'LogisticRegression': {\n",
        "        'C': np.logspace(-3, 2, 6),\n",
        "        'penalty': ['l2']\n",
        "    },\n",
        "    'DecisionTree': {\n",
        "        'max_depth': [5, 10, 20, None],\n",
        "        'min_samples_split': [2, 5, 10]\n",
        "    },\n",
        "    'RandomForest': {\n",
        "        'n_estimators': [100, 300],\n",
        "        'max_depth': [10, 20, None],\n",
        "        'min_samples_leaf': [1, 2]\n",
        "    },\n",
        "    'CatBoost': {\n",
        "        'depth': [4, 6, 10],\n",
        "        'learning_rate': [0.01, 0.1, 0.2],\n",
        "        'l2_leaf_reg': [1, 3, 5]\n",
        "    }\n",
        "}"
      ],
      "metadata": {
        "id": "E7Ie9M-2VXsA"
      },
      "execution_count": 9,
      "outputs": []
    },
    {
      "cell_type": "markdown",
      "source": [
        "Обучение моделей"
      ],
      "metadata": {
        "id": "HbvYflBXVZoA"
      }
    },
    {
      "cell_type": "code",
      "source": [
        "best_models = {}\n",
        "\n",
        "for name, model in models.items():\n",
        "    print(f\"Тюнинг: {name}\")\n",
        "    param_grid = param_grids[name]\n",
        "\n",
        "    search = RandomizedSearchCV(\n",
        "        model,\n",
        "        param_distributions=param_grid,\n",
        "        n_iter=10,\n",
        "        cv=3,\n",
        "        scoring='f1',\n",
        "        n_jobs=-1,\n",
        "        random_state=42\n",
        "    )\n",
        "\n",
        "    search.fit(X_train_pca, y_train)\n",
        "    best_models[name] = search.best_estimator_"
      ],
      "metadata": {
        "colab": {
          "base_uri": "https://localhost:8080/"
        },
        "id": "RgpoDbZRVcc3",
        "outputId": "7e5f918a-7ebf-4776-adab-82c9aa81da2a"
      },
      "execution_count": 10,
      "outputs": [
        {
          "output_type": "stream",
          "name": "stdout",
          "text": [
            "Тюнинг: LogisticRegression\n"
          ]
        },
        {
          "output_type": "stream",
          "name": "stderr",
          "text": [
            "/usr/local/lib/python3.11/dist-packages/sklearn/model_selection/_search.py:317: UserWarning: The total space of parameters 6 is smaller than n_iter=10. Running 6 iterations. For exhaustive searches, use GridSearchCV.\n",
            "  warnings.warn(\n"
          ]
        },
        {
          "output_type": "stream",
          "name": "stdout",
          "text": [
            "Тюнинг: DecisionTree\n",
            "Тюнинг: RandomForest\n",
            "Тюнинг: CatBoost\n"
          ]
        }
      ]
    },
    {
      "cell_type": "markdown",
      "source": [
        "Оцениваем метрики: Accuracy, Precision, Recall и F1-score"
      ],
      "metadata": {
        "id": "Bz2ALxIPVegY"
      }
    },
    {
      "cell_type": "code",
      "source": [
        "results = []\n",
        "\n",
        "for name, model in best_models.items():\n",
        "    y_pred = model.predict(X_test_pca)\n",
        "\n",
        "    acc = accuracy_score(y_test, y_pred)\n",
        "    prec = precision_score(y_test, y_pred)\n",
        "    rec = recall_score(y_test, y_pred)\n",
        "    f1 = f1_score(y_test, y_pred)\n",
        "\n",
        "    results.append({\n",
        "        'Model': name,\n",
        "        'Accuracy': acc,\n",
        "        'Precision': prec,\n",
        "        'Recall': rec,\n",
        "        'F1-score': f1\n",
        "    })"
      ],
      "metadata": {
        "id": "f2smUsFyVgzY"
      },
      "execution_count": 11,
      "outputs": []
    },
    {
      "cell_type": "code",
      "source": [
        "results_df = pd.DataFrame(results).sort_values('F1-score', ascending=False).reset_index(drop=True)\n",
        "print(\"\\nИтоговая таблица результатов:\\n\")\n",
        "print(results_df.to_string(index=False))"
      ],
      "metadata": {
        "colab": {
          "base_uri": "https://localhost:8080/"
        },
        "id": "jx6gJgvzVkWg",
        "outputId": "fc12b2b0-ec2a-4c59-c25c-b2daf8709ed0"
      },
      "execution_count": 12,
      "outputs": [
        {
          "output_type": "stream",
          "name": "stdout",
          "text": [
            "\n",
            "Итоговая таблица результатов:\n",
            "\n",
            "             Model  Accuracy  Precision  Recall  F1-score\n",
            "      RandomForest  0.761194   0.740741    0.80  0.769231\n",
            "          CatBoost  0.736318   0.711712    0.79  0.748815\n",
            "      DecisionTree  0.711443   0.698113    0.74  0.718447\n",
            "LogisticRegression  0.661692   0.660000    0.66  0.660000\n"
          ]
        }
      ]
    },
    {
      "cell_type": "markdown",
      "source": [
        "Гистограммы"
      ],
      "metadata": {
        "id": "o60YsZ23Vmz3"
      }
    },
    {
      "cell_type": "code",
      "source": [
        "fig, ax = plt.subplots(figsize=(10, 6))\n",
        "results_df.set_index('Model')[['Accuracy', 'Precision', 'Recall', 'F1-score']].plot(kind='bar', ax=ax)\n",
        "\n",
        "plt.title(\"Сравнение моделей по метрикам\")\n",
        "plt.ylabel(\"Значение\")\n",
        "plt.xticks(rotation=45)\n",
        "plt.grid(True)\n",
        "plt.tight_layout()\n",
        "plt.show()"
      ],
      "metadata": {
        "colab": {
          "base_uri": "https://localhost:8080/",
          "height": 607
        },
        "id": "LxDdVAASVq42",
        "outputId": "626d23cb-e91d-4c6c-d84d-f24242c71b9b"
      },
      "execution_count": 13,
      "outputs": [
        {
          "output_type": "display_data",
          "data": {
            "text/plain": [
              "<Figure size 1000x600 with 1 Axes>"
            ],
            "image/png": "[encoded data removed]"
          },
          "metadata": {}
        }
      ]
    },
    {
      "cell_type": "markdown",
      "source": [
        "Здесь также все модели справились довольно хорошо, лучше всех поазал результаты Случайный Лес."
      ],
      "metadata": {
        "id": "9HgkK4rCksX4"
      }
    },
    {
      "cell_type": "code",
      "source": [],
      "metadata": {
        "id": "eypKQxzuk2tF"
      },
      "execution_count": null,
      "outputs": []
    }
  ]
}