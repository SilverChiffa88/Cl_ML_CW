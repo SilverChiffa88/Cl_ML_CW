{
  "nbformat": 4,
  "nbformat_minor": 0,
  "metadata": {
    "colab": {
      "provenance": []
    },
    "kernelspec": {
      "name": "python3",
      "display_name": "Python 3"
    },
    "language_info": {
      "name": "python"
    }
  },
  "cells": [
    {
      "cell_type": "code",
      "execution_count": 1,
      "metadata": {
        "colab": {
          "base_uri": "https://localhost:8080/"
        },
        "id": "Bc7_83pqk66J",
        "outputId": "3770d6c3-f030-43b4-a8d1-ac338da90a9f"
      },
      "outputs": [
        {
          "output_type": "stream",
          "name": "stdout",
          "text": [
            "\u001b[2K   \u001b[90m━━━━━━━━━━━━━━━━━━━━━━━━━━━━━━━━━━━━━━━━\u001b[0m \u001b[32m99.2/99.2 MB\u001b[0m \u001b[31m7.5 MB/s\u001b[0m eta \u001b[36m0:00:00\u001b[0m\n",
            "\u001b[?25h"
          ]
        }
      ],
      "source": [
        "!pip -q install catboost"
      ]
    },
    {
      "cell_type": "code",
      "source": [
        "import pandas as pd\n",
        "import numpy as np\n",
        "import matplotlib.pyplot as plt\n",
        "from sklearn.model_selection import train_test_split, RandomizedSearchCV\n",
        "from sklearn.preprocessing import StandardScaler\n",
        "from sklearn.decomposition import PCA\n",
        "from sklearn.metrics import accuracy_score, precision_score, recall_score, f1_score\n",
        "from sklearn.linear_model import LogisticRegression\n",
        "from sklearn.tree import DecisionTreeClassifier\n",
        "from sklearn.ensemble import RandomForestClassifier\n",
        "from catboost import CatBoostClassifier"
      ],
      "metadata": {
        "id": "fEsM7C8MlDCk"
      },
      "execution_count": 2,
      "outputs": []
    },
    {
      "cell_type": "markdown",
      "source": [
        "Датасет, подготовленный для обучения на переменной SI (медиана)"
      ],
      "metadata": {
        "id": "dg18eHHSlCjk"
      }
    },
    {
      "cell_type": "code",
      "source": [
        "df = pd.read_csv('dataset_SI_median.csv')"
      ],
      "metadata": {
        "id": "qxIv9D39lLxY"
      },
      "execution_count": 3,
      "outputs": []
    },
    {
      "cell_type": "markdown",
      "source": [
        "Целевой столбец High_SI"
      ],
      "metadata": {
        "id": "w2yZ9Y1glUqy"
      }
    },
    {
      "cell_type": "code",
      "source": [
        "target_col = 'High_SI'\n",
        "X = df.drop(columns=[target_col])\n",
        "y = df[target_col]"
      ],
      "metadata": {
        "id": "rRpra9CvlY76"
      },
      "execution_count": 4,
      "outputs": []
    },
    {
      "cell_type": "markdown",
      "source": [
        "Разделяем выборку"
      ],
      "metadata": {
        "id": "_DQuas0Ylcdy"
      }
    },
    {
      "cell_type": "code",
      "source": [
        "X_train, X_test, y_train, y_test = train_test_split(\n",
        "    X, y, test_size=0.2, random_state=42, stratify=y\n",
        ")"
      ],
      "metadata": {
        "id": "svn7c12Jlemi"
      },
      "execution_count": 5,
      "outputs": []
    },
    {
      "cell_type": "markdown",
      "source": [
        "Масштабируем признаки"
      ],
      "metadata": {
        "id": "kAvEB1yblhDk"
      }
    },
    {
      "cell_type": "code",
      "source": [
        "scaler = StandardScaler()\n",
        "X_train_scaled = scaler.fit_transform(X_train)\n",
        "X_test_scaled = scaler.transform(X_test)"
      ],
      "metadata": {
        "id": "lccV835hljJr"
      },
      "execution_count": 6,
      "outputs": []
    },
    {
      "cell_type": "markdown",
      "source": [
        "PCA"
      ],
      "metadata": {
        "id": "rw53xJ_Zlkzs"
      }
    },
    {
      "cell_type": "code",
      "source": [
        "pca = PCA(n_components=15, random_state=42)\n",
        "X_train_pca = pca.fit_transform(X_train_scaled)\n",
        "X_test_pca = pca.transform(X_test_scaled)"
      ],
      "metadata": {
        "id": "2H3u4C6xlmg7"
      },
      "execution_count": 7,
      "outputs": []
    },
    {
      "cell_type": "markdown",
      "source": [
        "Гиперпараметры"
      ],
      "metadata": {
        "id": "9hpMkIBxloJz"
      }
    },
    {
      "cell_type": "code",
      "source": [
        "models = {\n",
        "    'LogisticRegression': LogisticRegression(max_iter=1000, random_state=42),\n",
        "    'DecisionTree': DecisionTreeClassifier(random_state=42),\n",
        "    'RandomForest': RandomForestClassifier(random_state=42, n_jobs=-1),\n",
        "    'CatBoost': CatBoostClassifier(verbose=0, random_state=42)\n",
        "}\n",
        "\n",
        "param_grids = {\n",
        "    'LogisticRegression': {\n",
        "        'C': np.logspace(-3, 2, 6),\n",
        "        'penalty': ['l2']\n",
        "    },\n",
        "    'DecisionTree': {\n",
        "        'max_depth': [5, 10, 20, None],\n",
        "        'min_samples_split': [2, 5, 10]\n",
        "    },\n",
        "    'RandomForest': {\n",
        "        'n_estimators': [100, 300],\n",
        "        'max_depth': [10, 20, None],\n",
        "        'min_samples_leaf': [1, 2]\n",
        "    },\n",
        "    'CatBoost': {\n",
        "        'depth': [4, 6, 10],\n",
        "        'learning_rate': [0.01, 0.1, 0.2],\n",
        "        'l2_leaf_reg': [1, 3, 5]\n",
        "    }\n",
        "}"
      ],
      "metadata": {
        "id": "y_5H5liDlppC"
      },
      "execution_count": 8,
      "outputs": []
    },
    {
      "cell_type": "markdown",
      "source": [
        "Обучение"
      ],
      "metadata": {
        "id": "0FFsRLuTltwT"
      }
    },
    {
      "cell_type": "code",
      "source": [
        "best_models = {}\n",
        "\n",
        "for name, model in models.items():\n",
        "    print(f\"Тюнинг: {name}\")\n",
        "    param_grid = param_grids[name]\n",
        "\n",
        "    search = RandomizedSearchCV(\n",
        "        model,\n",
        "        param_distributions=param_grid,\n",
        "        n_iter=10,\n",
        "        cv=3,\n",
        "        scoring='f1',\n",
        "        n_jobs=-1,\n",
        "        random_state=42\n",
        "    )\n",
        "\n",
        "    search.fit(X_train_pca, y_train)\n",
        "    best_models[name] = search.best_estimator_"
      ],
      "metadata": {
        "colab": {
          "base_uri": "https://localhost:8080/"
        },
        "id": "t6U8An5flvms",
        "outputId": "84832b29-88e9-4799-8303-fc324468cb95"
      },
      "execution_count": 9,
      "outputs": [
        {
          "output_type": "stream",
          "name": "stdout",
          "text": [
            "Тюнинг: LogisticRegression\n"
          ]
        },
        {
          "output_type": "stream",
          "name": "stderr",
          "text": [
            "/usr/local/lib/python3.11/dist-packages/sklearn/model_selection/_search.py:317: UserWarning: The total space of parameters 6 is smaller than n_iter=10. Running 6 iterations. For exhaustive searches, use GridSearchCV.\n",
            "  warnings.warn(\n"
          ]
        },
        {
          "output_type": "stream",
          "name": "stdout",
          "text": [
            "Тюнинг: DecisionTree\n",
            "Тюнинг: RandomForest\n",
            "Тюнинг: CatBoost\n"
          ]
        }
      ]
    },
    {
      "cell_type": "markdown",
      "source": [
        "Смотрим метрики"
      ],
      "metadata": {
        "id": "ndvgfO4tlzEs"
      }
    },
    {
      "cell_type": "code",
      "source": [
        "results = []\n",
        "\n",
        "for name, model in best_models.items():\n",
        "    y_pred = model.predict(X_test_pca)\n",
        "\n",
        "    acc = accuracy_score(y_test, y_pred)\n",
        "    prec = precision_score(y_test, y_pred)\n",
        "    rec = recall_score(y_test, y_pred)\n",
        "    f1 = f1_score(y_test, y_pred)\n",
        "\n",
        "    results.append({\n",
        "        'Model': name,\n",
        "        'Accuracy': acc,\n",
        "        'Precision': prec,\n",
        "        'Recall': rec,\n",
        "        'F1-score': f1\n",
        "    })"
      ],
      "metadata": {
        "id": "quqK3dGhl2eT"
      },
      "execution_count": 10,
      "outputs": []
    },
    {
      "cell_type": "code",
      "source": [
        "results_df = pd.DataFrame(results).sort_values('F1-score', ascending=False).reset_index(drop=True)\n",
        "print(\"\\nИтоговая таблица результатов:\\n\")\n",
        "print(results_df.to_string(index=False))"
      ],
      "metadata": {
        "colab": {
          "base_uri": "https://localhost:8080/"
        },
        "id": "u0_voT4nl4ZU",
        "outputId": "42b428dc-435c-459a-93c3-05ec6a7d3074"
      },
      "execution_count": 11,
      "outputs": [
        {
          "output_type": "stream",
          "name": "stdout",
          "text": [
            "\n",
            "Итоговая таблица результатов:\n",
            "\n",
            "             Model  Accuracy  Precision  Recall  F1-score\n",
            "      RandomForest  0.621891   0.625000    0.60  0.612245\n",
            "          CatBoost  0.601990   0.596154    0.62  0.607843\n",
            "LogisticRegression  0.626866   0.681159    0.47  0.556213\n",
            "      DecisionTree  0.507463   0.504587    0.55  0.526316\n"
          ]
        }
      ]
    },
    {
      "cell_type": "markdown",
      "source": [
        "Гистограммы"
      ],
      "metadata": {
        "id": "J-AjqYOSl6Fk"
      }
    },
    {
      "cell_type": "code",
      "source": [
        "fig, ax = plt.subplots(figsize=(10, 6))\n",
        "results_df.set_index('Model')[['Accuracy', 'Precision', 'Recall', 'F1-score']].plot(kind='bar', ax=ax)\n",
        "\n",
        "plt.title(\"Сравнение моделей по метрикам\")\n",
        "plt.ylabel(\"Значение\")\n",
        "plt.xticks(rotation=45)\n",
        "plt.grid(True)\n",
        "plt.tight_layout()\n",
        "plt.show()"
      ],
      "metadata": {
        "colab": {
          "base_uri": "https://localhost:8080/",
          "height": 607
        },
        "id": "M9q6KtHsl7tT",
        "outputId": "f0115485-8368-4084-cd62-7a27253599bf"
      },
      "execution_count": 12,
      "outputs": [
        {
          "output_type": "display_data",
          "data": {
            "text/plain": [
              "<Figure size 1000x600 with 1 Axes>"
            ],
            "image/png": "[encoded data removed]"
          },
          "metadata": {}
        }
      ]
    },
    {
      "cell_type": "markdown",
      "source": [
        "Здесь модели показали неплохой результат, но хуже, чем с переменными IC50 и CC50. По совокупности рассматриваемых метрик лучше всех показала себя модель Случайного леса."
      ],
      "metadata": {
        "id": "L0c1bQJcn_b4"
      }
    }
  ]
}